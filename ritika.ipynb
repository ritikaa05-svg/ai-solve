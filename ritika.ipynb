{
  "nbformat": 4,
  "nbformat_minor": 0,
  "metadata": {
    "colab": {
      "provenance": [],
      "authorship_tag": "ABX9TyO0ohn50RaxtnpvU7vWxkJC",
      "include_colab_link": true
    },
    "kernelspec": {
      "name": "python3",
      "display_name": "Python 3"
    },
    "language_info": {
      "name": "python"
    }
  },
  "cells": [
    {
      "cell_type": "markdown",
      "metadata": {
        "id": "view-in-github",
        "colab_type": "text"
      },
      "source": [
        "<a href=\"https://colab.research.google.com/github/ritikaa05-svg/ai-solve/blob/main/ritika.ipynb\" target=\"_parent\"><img src=\"https://colab.research.google.com/assets/colab-badge.svg\" alt=\"Open In Colab\"/></a>"
      ]
    },
    {
      "cell_type": "code",
      "execution_count": 2,
      "metadata": {
        "colab": {
          "base_uri": "https://localhost:8080/"
        },
        "id": "iq0V5KAmdMOD",
        "outputId": "b7409749-b50a-447e-8edb-c2819b68abfe"
      },
      "outputs": [
        {
          "output_type": "stream",
          "name": "stdout",
          "text": [
            "Room 0 is dirty. Cleaning...\n",
            "Room 0 is clean. Moving to the next room...\n",
            "Room 1 is clean. Moving to the next room...\n",
            "Room 2 is dirty. Cleaning...\n",
            "Room 2 is clean. Moving to the next room...\n",
            "Room 3 is dirty. Cleaning...\n",
            "Final state of the environment: ['clean', 'clean', 'clean', 'clean', 'clean']\n"
          ]
        }
      ],
      "source": [
        "class VacuumCleanerAgent:\n",
        "    def __init__(self, environment):\n",
        "        self.environment = environment\n",
        "        self.current_position = 0  # Starting position is room 0\n",
        "\n",
        "    def perceive(self):\n",
        "        # Perceive the state of the current room\n",
        "        return self.environment[self.current_position]\n",
        "\n",
        "    def act(self):\n",
        "        # Take action based on the current perception\n",
        "        if self.perceive() == 'dirty':\n",
        "            print(f\"Room {self.current_position} is dirty. Cleaning...\")\n",
        "            self.environment[self.current_position] = 'clean'\n",
        "        else:\n",
        "            print(f\"Room {self.current_position} is clean. Moving to the next room...\")\n",
        "            self.move()\n",
        "\n",
        "    def move(self):\n",
        "        # Move to the next room if possible\n",
        "        if self.current_position < len(self.environment) - 1:\n",
        "            self.current_position += 1\n",
        "        else:\n",
        "            print(\"All rooms are cleaned. Task completed!\")\n",
        "\n",
        "# Initialize the environment with rooms being either 'dirty' or 'clean'\n",
        "environment = ['dirty', 'clean', 'dirty', 'dirty', 'clean']\n",
        "\n",
        "# Instantiate the vacuum cleaner agent\n",
        "vacuum_agent = VacuumCleanerAgent(environment)\n",
        "\n",
        "# Run the vacuum cleaner until all rooms are cleaned\n",
        "while 'dirty' in environment:\n",
        "    vacuum_agent.act()\n",
        "\n",
        "print(\"Final state of the environment:\", environment)\n"
      ]
    }
  ]
}