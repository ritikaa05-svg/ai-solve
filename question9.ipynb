{
  "nbformat": 4,
  "nbformat_minor": 0,
  "metadata": {
    "colab": {
      "provenance": [],
      "authorship_tag": "ABX9TyOTFqT2FodzDvJJRJ85DMxp",
      "include_colab_link": true
    },
    "kernelspec": {
      "name": "python3",
      "display_name": "Python 3"
    },
    "language_info": {
      "name": "python"
    }
  },
  "cells": [
    {
      "cell_type": "markdown",
      "metadata": {
        "id": "view-in-github",
        "colab_type": "text"
      },
      "source": [
        "<a href=\"https://colab.research.google.com/github/ritikaa05-svg/ai-solve/blob/main/question9.ipynb\" target=\"_parent\"><img src=\"https://colab.research.google.com/assets/colab-badge.svg\" alt=\"Open In Colab\"/></a>"
      ]
    },
    {
      "cell_type": "code",
      "execution_count": 4,
      "metadata": {
        "colab": {
          "base_uri": "https://localhost:8080/"
        },
        "id": "oMVQhPaBk44K",
        "outputId": "31c3c4e8-4221-4e6c-90a4-48c9a0c1eba0"
      },
      "outputs": [
        {
          "output_type": "stream",
          "name": "stdout",
          "text": [
            "No solution found.\n"
          ]
        }
      ],
      "source": [
        "import random\n",
        "\n",
        "# Define the goal state for the 8 puzzle\n",
        "goal_state = [\n",
        "    [1, 2, 3],\n",
        "    [4, 5, 6],\n",
        "    [7, 8, 0]\n",
        "]\n",
        "\n",
        "# Directions for moving the empty space\n",
        "DIRECTIONS = [(-1, 0), (1, 0), (0, -1), (0, 1)]  # up, down, left, right\n",
        "\n",
        "class PuzzleState:\n",
        "    def __init__(self, board, parent=None):\n",
        "        self.board = board  # current state of the puzzle\n",
        "        self.parent = parent  # parent state\n",
        "\n",
        "    def calculate_heuristic(self):\n",
        "        \"\"\"Calculate the Manhattan distance heuristic.\"\"\"\n",
        "        h = 0\n",
        "        for i in range(3):\n",
        "            for j in range(3):\n",
        "                if self.board[i][j] != 0:\n",
        "                    goal_i, goal_j = divmod(self.board[i][j] - 1, 3)\n",
        "                    h += abs(goal_i - i) + abs(goal_j - j)\n",
        "        return h\n",
        "\n",
        "    def get_empty_position(self):\n",
        "        \"\"\"Find the position of the empty space (0).\"\"\"\n",
        "        for i in range(3):\n",
        "            for j in range(3):\n",
        "                if self.board[i][j] == 0:\n",
        "                    return i, j\n",
        "        return None\n",
        "\n",
        "    def generate_children(self):\n",
        "        \"\"\"Generate all possible valid moves from the current state.\"\"\"\n",
        "        children = []\n",
        "        x, y = self.get_empty_position()\n",
        "\n",
        "        for dx, dy in DIRECTIONS:\n",
        "            new_x, new_y = x + dx, y + dy\n",
        "\n",
        "            # Check if the new position is within the bounds of the board\n",
        "            if 0 <= new_x < 3 and 0 <= new_y < 3:\n",
        "                new_board = [row[:] for row in self.board]  # Copy the current board\n",
        "                # Swap the empty space with the tile in the new position\n",
        "                new_board[x][y], new_board[new_x][new_y] = new_board[new_x][new_y], new_board[x][y]\n",
        "                child_state = PuzzleState(new_board, self)\n",
        "                children.append(child_state)\n",
        "\n",
        "        return children\n",
        "\n",
        "    def is_goal(self):\n",
        "        \"\"\"Check if the current state is the goal state.\"\"\"\n",
        "        return self.board == goal_state\n",
        "\n",
        "\n",
        "def steepest_ascent_hill_climbing(start_state):\n",
        "    \"\"\"Solve the 8-puzzle using Steepest Ascent Hill Climbing.\"\"\"\n",
        "    current_state = start_state\n",
        "\n",
        "    while not current_state.is_goal():\n",
        "        neighbors = current_state.generate_children()\n",
        "\n",
        "        # If no neighbors, return failure (local maxima)\n",
        "        if not neighbors:\n",
        "            return None\n",
        "\n",
        "        # Evaluate all neighbors and choose the one with the best heuristic (lowest cost)\n",
        "        best_neighbor = min(neighbors, key=lambda state: state.calculate_heuristic())\n",
        "\n",
        "        # If the best neighbor is worse or the same as the current state, we've reached a local maxima\n",
        "        if best_neighbor.calculate_heuristic() >= current_state.calculate_heuristic():\n",
        "            return None\n",
        "\n",
        "        # Move to the best neighbor\n",
        "        current_state = best_neighbor\n",
        "\n",
        "    # Reconstruct the path\n",
        "    path = []\n",
        "    while current_state:\n",
        "        path.append(current_state.board)\n",
        "        current_state = current_state.parent\n",
        "\n",
        "    return path[::-1]  # Return path from start to goal\n",
        "\n",
        "# Define the initial state (you can change this to any other valid configuration)\n",
        "initial_state = PuzzleState(\n",
        "    [\n",
        "        [2, 8, 3],\n",
        "        [1, 6, 4],\n",
        "        [7, 0, 5]\n",
        "    ]\n",
        ")\n",
        "\n",
        "# Solve the puzzle using Steepest Ascent Hill Climbing\n",
        "solution_path = steepest_ascent_hill_climbing(initial_state)\n",
        "\n",
        "if solution_path:\n",
        "    print(f\"Solution found in {len(solution_path) - 1} moves:\")\n",
        "    for step in solution_path:\n",
        "        for row in step:\n",
        "            print(row)\n",
        "        print()  # Print an empty line between steps\n",
        "else:\n",
        "    print(\"No solution found.\")\n"
      ]
    }
  ]
}