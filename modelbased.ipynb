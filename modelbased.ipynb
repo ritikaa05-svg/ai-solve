{
  "nbformat": 4,
  "nbformat_minor": 0,
  "metadata": {
    "colab": {
      "provenance": [],
      "authorship_tag": "ABX9TyM6WTef5fOWNnYF3uWAHOEb",
      "include_colab_link": true
    },
    "kernelspec": {
      "name": "python3",
      "display_name": "Python 3"
    },
    "language_info": {
      "name": "python"
    }
  },
  "cells": [
    {
      "cell_type": "markdown",
      "metadata": {
        "id": "view-in-github",
        "colab_type": "text"
      },
      "source": [
        "<a href=\"https://colab.research.google.com/github/ritikaa05-svg/ai-solve/blob/main/modelbased.ipynb\" target=\"_parent\"><img src=\"https://colab.research.google.com/assets/colab-badge.svg\" alt=\"Open In Colab\"/></a>"
      ]
    },
    {
      "cell_type": "code",
      "execution_count": 2,
      "metadata": {
        "colab": {
          "base_uri": "https://localhost:8080/"
        },
        "id": "Emjjwm63fvHi",
        "outputId": "ebf1b4f1-6002-4913-f39e-a3cd0c820bd8"
      },
      "outputs": [
        {
          "output_type": "stream",
          "name": "stdout",
          "text": [
            "Room 0 is dirty. Cleaning...\n",
            "Room 2 is dirty. Cleaning...\n",
            "Room 3 is dirty. Cleaning...\n",
            "All rooms are cleaned or checked. Task completed!\n",
            "Final state of the environment: ['clean', 'clean', 'clean', 'clean', 'clean']\n"
          ]
        }
      ],
      "source": [
        "class VacuumCleanerAgent:\n",
        "    def __init__(self, environment):\n",
        "        self.environment = environment\n",
        "        self.current_position = 0  # Starting position is room 0\n",
        "        self.visited_rooms = set()  # Keep track of visited rooms\n",
        "\n",
        "    def perceive(self):\n",
        "        # Perceive the state of the current room\n",
        "        return self.environment[self.current_position]\n",
        "\n",
        "    def act(self):\n",
        "        # Take action based on the current perception\n",
        "        if self.perceive() == 'dirty':\n",
        "            print(f\"Room {self.current_position} is dirty. Cleaning...\")\n",
        "            self.environment[self.current_position] = 'clean'\n",
        "        else:\n",
        "            print(f\"Room {self.current_position} is clean.\")\n",
        "\n",
        "        # Mark the room as visited\n",
        "        self.visited_rooms.add(self.current_position)\n",
        "\n",
        "        # Decide the next action\n",
        "        self.move()\n",
        "\n",
        "    def move(self):\n",
        "        # Move to the next unvisited room if possible\n",
        "        unvisited_rooms = [i for i in range(len(self.environment)) if i not in self.visited_rooms and self.environment[i] == 'dirty']\n",
        "        if unvisited_rooms:\n",
        "            self.current_position = unvisited_rooms[0]\n",
        "        else:\n",
        "            print(\"All rooms are cleaned or checked. Task completed!\")\n",
        "\n",
        "# Initialize the environment with rooms being either 'dirty' or 'clean'\n",
        "environment = ['dirty', 'clean', 'dirty', 'dirty', 'clean']\n",
        "\n",
        "# Instantiate the vacuum cleaner agent\n",
        "vacuum_agent = VacuumCleanerAgent(environment)\n",
        "\n",
        "# Run the vacuum cleaner until all rooms are cleaned\n",
        "while 'dirty' in environment:\n",
        "    vacuum_agent.act()\n",
        "\n",
        "print(\"Final state of the environment:\", environment)\n"
      ]
    },
    {
      "cell_type": "code",
      "source": [],
      "metadata": {
        "id": "Vmd9f6hSg6zI"
      },
      "execution_count": null,
      "outputs": []
    }
  ]
}