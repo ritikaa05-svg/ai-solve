{
  "nbformat": 4,
  "nbformat_minor": 0,
  "metadata": {
    "colab": {
      "provenance": [],
      "authorship_tag": "ABX9TyNiJ7mP1hmA8f6ehtY3tPlm",
      "include_colab_link": true
    },
    "kernelspec": {
      "name": "python3",
      "display_name": "Python 3"
    },
    "language_info": {
      "name": "python"
    }
  },
  "cells": [
    {
      "cell_type": "markdown",
      "metadata": {
        "id": "view-in-github",
        "colab_type": "text"
      },
      "source": [
        "<a href=\"https://colab.research.google.com/github/ritikaa05-svg/ai-solve/blob/main/8puzzle.ipynb\" target=\"_parent\"><img src=\"https://colab.research.google.com/assets/colab-badge.svg\" alt=\"Open In Colab\"/></a>"
      ]
    },
    {
      "cell_type": "code",
      "execution_count": 1,
      "metadata": {
        "colab": {
          "base_uri": "https://localhost:8080/"
        },
        "id": "5XN4d_-tj00d",
        "outputId": "1217ef60-e268-4f16-9a39-c7b2478b39e7"
      },
      "outputs": [
        {
          "output_type": "stream",
          "name": "stdout",
          "text": [
            "No solution found.\n"
          ]
        }
      ],
      "source": [
        "import heapq\n",
        "\n",
        "# Define the goal state for the 8 puzzle\n",
        "goal_state = [\n",
        "    [1, 2, 3],\n",
        "    [4, 5, 6],\n",
        "    [7, 8, 0]\n",
        "]\n",
        "\n",
        "# Directions for moving the empty space\n",
        "DIRECTIONS = [(-1, 0), (1, 0), (0, -1), (0, 1)]  # up, down, left, right\n",
        "\n",
        "class PuzzleState:\n",
        "    def __init__(self, board, parent=None, g=0):\n",
        "        self.board = board  # current state of the puzzle\n",
        "        self.parent = parent  # parent state\n",
        "        self.g = g  # cost to reach this state (number of moves)\n",
        "        self.h = self.calculate_heuristic()  # heuristic value (Manhattan distance)\n",
        "        self.f = self.g + self.h  # total cost function f(n) = g(n) + h(n)\n",
        "\n",
        "    def calculate_heuristic(self):\n",
        "        \"\"\"Calculate the Manhattan distance heuristic.\"\"\"\n",
        "        h = 0\n",
        "        for i in range(3):\n",
        "            for j in range(3):\n",
        "                if self.board[i][j] != 0:\n",
        "                    goal_i, goal_j = divmod(self.board[i][j] - 1, 3)\n",
        "                    h += abs(goal_i - i) + abs(goal_j - j)\n",
        "        return h\n",
        "\n",
        "    def is_goal(self):\n",
        "        \"\"\"Check if the current state is the goal state.\"\"\"\n",
        "        return self.board == goal_state\n",
        "\n",
        "    def get_empty_position(self):\n",
        "        \"\"\"Find the position of the empty space (0).\"\"\"\n",
        "        for i in range(3):\n",
        "            for j in range(3):\n",
        "                if self.board[i][j] == 0:\n",
        "                    return i, j\n",
        "        return None\n",
        "\n",
        "    def generate_children(self):\n",
        "        \"\"\"Generate all possible valid moves from the current state.\"\"\"\n",
        "        children = []\n",
        "        x, y = self.get_empty_position()\n",
        "\n",
        "        for dx, dy in DIRECTIONS:\n",
        "            new_x, new_y = x + dx, y + dy\n",
        "\n",
        "            # Check if the new position is within the bounds of the board\n",
        "            if 0 <= new_x < 3 and 0 <= new_y < 3:\n",
        "                new_board = [row[:] for row in self.board]  # Copy the current board\n",
        "                # Swap the empty space with the tile in the new position\n",
        "                new_board[x][y], new_board[new_x][new_y] = new_board[new_x][new_y], new_board[x][y]\n",
        "                child_state = PuzzleState(new_board, self, self.g + 1)\n",
        "                children.append(child_state)\n",
        "\n",
        "        return children\n",
        "\n",
        "    def __lt__(self, other):\n",
        "        \"\"\"Compare PuzzleState objects to prioritize in the heap.\"\"\"\n",
        "        return self.f < other.f\n",
        "\n",
        "\n",
        "def a_star(start_state):\n",
        "    \"\"\"Solve the 8 puzzle using the A* algorithm.\"\"\"\n",
        "    open_list = []\n",
        "    closed_list = set()\n",
        "\n",
        "    # Push the start state onto the priority queue\n",
        "    heapq.heappush(open_list, start_state)\n",
        "\n",
        "    while open_list:\n",
        "        current_state = heapq.heappop(open_list)\n",
        "\n",
        "        # Check if the current state is the goal state\n",
        "        if current_state.is_goal():\n",
        "            # Reconstruct the path\n",
        "            path = []\n",
        "            while current_state:\n",
        "                path.append(current_state.board)\n",
        "                current_state = current_state.parent\n",
        "            return path[::-1]  # Reverse the path to get the solution from start to goal\n",
        "\n",
        "        closed_list.add(tuple(map(tuple, current_state.board)))  # Add the state to the closed list\n",
        "\n",
        "        # Generate all valid children and add to open list\n",
        "        for child in current_state.generate_children():\n",
        "            if tuple(map(tuple, child.board)) not in closed_list:\n",
        "                heapq.heappush(open_list, child)\n",
        "\n",
        "    return None  # No solution found\n",
        "\n",
        "\n",
        "# Define the initial state\n",
        "initial_state = PuzzleState(\n",
        "    [\n",
        "        [2, 8, 3],\n",
        "        [1, 6, 4],\n",
        "        [7, 0, 5]\n",
        "    ]\n",
        ")\n",
        "\n",
        "# Solve the puzzle using A* algorithm\n",
        "solution_path = a_star(initial_state)\n",
        "\n",
        "if solution_path:\n",
        "    print(f\"Solution found in {len(solution_path) - 1} moves:\")\n",
        "    for step in solution_path:\n",
        "        for row in step:\n",
        "            print(row)\n",
        "        print()  # Print an empty line between steps\n",
        "else:\n",
        "    print(\"No solution found.\")\n"
      ]
    }
  ]
}