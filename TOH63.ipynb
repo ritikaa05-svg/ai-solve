{
  "nbformat": 4,
  "nbformat_minor": 0,
  "metadata": {
    "colab": {
      "provenance": [],
      "authorship_tag": "ABX9TyPvT4XzJe17XWpOmmYx9jdA",
      "include_colab_link": true
    },
    "kernelspec": {
      "name": "python3",
      "display_name": "Python 3"
    },
    "language_info": {
      "name": "python"
    }
  },
  "cells": [
    {
      "cell_type": "markdown",
      "metadata": {
        "id": "view-in-github",
        "colab_type": "text"
      },
      "source": [
        "<a href=\"https://colab.research.google.com/github/ritikaa05-svg/ai-solve/blob/main/TOH63.ipynb\" target=\"_parent\"><img src=\"https://colab.research.google.com/assets/colab-badge.svg\" alt=\"Open In Colab\"/></a>"
      ]
    },
    {
      "cell_type": "code",
      "execution_count": 1,
      "metadata": {
        "colab": {
          "base_uri": "https://localhost:8080/"
        },
        "id": "VZkqKoLMiFHn",
        "outputId": "0c15518f-ac66-447a-c082-852aa48e78ab"
      },
      "outputs": [
        {
          "output_type": "stream",
          "name": "stdout",
          "text": [
            "Move disk 1 from A to C\n",
            "Move disk 2 from A to B\n",
            "Move disk 1 from C to B\n",
            "Move disk 3 from A to C\n",
            "Move disk 1 from B to A\n",
            "Move disk 2 from B to C\n",
            "Move disk 1 from A to C\n"
          ]
        }
      ],
      "source": [
        "def hanoi(n, source, destination, auxiliary):\n",
        "    if n == 1:\n",
        "        print(f\"Move disk 1 from {source} to {destination}\")\n",
        "        return\n",
        "    hanoi(n - 1, source, auxiliary, destination)  # Step 1\n",
        "    print(f\"Move disk {n} from {source} to {destination}\")  # Step 2\n",
        "    hanoi(n - 1, auxiliary, destination, source)  # Step 3\n",
        "\n",
        "# Example usage:\n",
        "n = 3  # Number of disks\n",
        "hanoi(n, 'A', 'C', 'B')\n"
      ]
    }
  ]
}