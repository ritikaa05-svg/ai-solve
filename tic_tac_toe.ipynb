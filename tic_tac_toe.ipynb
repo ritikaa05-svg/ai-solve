{
  "nbformat": 4,
  "nbformat_minor": 0,
  "metadata": {
    "colab": {
      "provenance": [],
      "authorship_tag": "ABX9TyNduF8KThKoiQIQQI/Ppz8r",
      "include_colab_link": true
    },
    "kernelspec": {
      "name": "python3",
      "display_name": "Python 3"
    },
    "language_info": {
      "name": "python"
    }
  },
  "cells": [
    {
      "cell_type": "markdown",
      "metadata": {
        "id": "view-in-github",
        "colab_type": "text"
      },
      "source": [
        "<a href=\"https://colab.research.google.com/github/ritikaa05-svg/ai-solve/blob/main/tic_tac_toe.ipynb\" target=\"_parent\"><img src=\"https://colab.research.google.com/assets/colab-badge.svg\" alt=\"Open In Colab\"/></a>"
      ]
    },
    {
      "cell_type": "code",
      "execution_count": 1,
      "metadata": {
        "colab": {
          "base_uri": "https://localhost:8080/"
        },
        "id": "Cy1EnnN0jHIW",
        "outputId": "4777f0ca-d588-4169-b5db-de5055a00975"
      },
      "outputs": [
        {
          "output_type": "stream",
          "name": "stdout",
          "text": [
            "Heuristic value of the current state: 3\n"
          ]
        }
      ],
      "source": [
        "class TicTacToe:\n",
        "    def __init__(self, board, player, opponent):\n",
        "        self.board = board  # A 3x3 matrix representing the board\n",
        "        self.player = player  # The player (either 'X' or 'O')\n",
        "        self.opponent = opponent  # The opponent (either 'X' or 'O')\n",
        "\n",
        "    def is_open(self, line, symbol):\n",
        "        \"\"\"\n",
        "        Check if a row/column/diagonal is open for the given player or opponent.\n",
        "        A line is open if all spots are either empty or contain only the player's symbol.\n",
        "        \"\"\"\n",
        "        return all(x == symbol or x == ' ' for x in line)\n",
        "\n",
        "    def heuristic(self):\n",
        "        \"\"\"\n",
        "        Calculate the heuristic value for the current state of Tic-Tac-Toe.\n",
        "        e(p) = No. of complete rows, columns, or diagonals open for player\n",
        "               - No. of complete rows, columns, or diagonals open for opponent\n",
        "        \"\"\"\n",
        "        player_open = 0\n",
        "        opponent_open = 0\n",
        "\n",
        "        # Check rows\n",
        "        for row in self.board:\n",
        "            if self.is_open(row, self.player):\n",
        "                player_open += 1\n",
        "            if self.is_open(row, self.opponent):\n",
        "                opponent_open += 1\n",
        "\n",
        "        # Check columns\n",
        "        for col in range(3):\n",
        "            column = [self.board[row][col] for row in range(3)]\n",
        "            if self.is_open(column, self.player):\n",
        "                player_open += 1\n",
        "            if self.is_open(column, self.opponent):\n",
        "                opponent_open += 1\n",
        "\n",
        "        # Check diagonals\n",
        "        diag1 = [self.board[i][i] for i in range(3)]\n",
        "        diag2 = [self.board[i][2-i] for i in range(3)]\n",
        "\n",
        "        if self.is_open(diag1, self.player):\n",
        "            player_open += 1\n",
        "        if self.is_open(diag1, self.opponent):\n",
        "            opponent_open += 1\n",
        "\n",
        "        if self.is_open(diag2, self.player):\n",
        "            player_open += 1\n",
        "        if self.is_open(diag2, self.opponent):\n",
        "            opponent_open += 1\n",
        "\n",
        "        # Return the heuristic value: player open - opponent open\n",
        "        return player_open - opponent_open\n",
        "\n",
        "# Example usage:\n",
        "\n",
        "# A Tic-Tac-Toe board\n",
        "board = [\n",
        "    ['X', ' ', 'O'],\n",
        "    [' ', 'X', ' '],\n",
        "    ['O', ' ', 'X']\n",
        "]\n",
        "\n",
        "player = 'X'  # Player's symbol\n",
        "opponent = 'O'  # Opponent's symbol\n",
        "\n",
        "# Create a TicTacToe object\n",
        "tic_tac_toe = TicTacToe(board, player, opponent)\n",
        "\n",
        "# Calculate the heuristic value for the current state\n",
        "h_value = tic_tac_toe.heuristic()\n",
        "\n",
        "print(f\"Heuristic value of the current state: {h_value}\")\n"
      ]
    }
  ]
}