{
  "nbformat": 4,
  "nbformat_minor": 0,
  "metadata": {
    "colab": {
      "provenance": [],
      "authorship_tag": "ABX9TyOWZwE8szIYGAelM0Xw/nLQ",
      "include_colab_link": true
    },
    "kernelspec": {
      "name": "python3",
      "display_name": "Python 3"
    },
    "language_info": {
      "name": "python"
    }
  },
  "cells": [
    {
      "cell_type": "markdown",
      "metadata": {
        "id": "view-in-github",
        "colab_type": "text"
      },
      "source": [
        "<a href=\"https://colab.research.google.com/github/ritikaa05-svg/ai-solve/blob/main/heuristic.ipynb\" target=\"_parent\"><img src=\"https://colab.research.google.com/assets/colab-badge.svg\" alt=\"Open In Colab\"/></a>"
      ]
    },
    {
      "cell_type": "code",
      "execution_count": 1,
      "metadata": {
        "colab": {
          "base_uri": "https://localhost:8080/"
        },
        "id": "IMnpCtfXiqgb",
        "outputId": "b4cfca0f-c7c4-44ff-d6fb-508e3ad4c880"
      },
      "outputs": [
        {
          "output_type": "stream",
          "name": "stdout",
          "text": [
            "Heuristic value of the current state: -3\n"
          ]
        }
      ],
      "source": [
        "class BlocksWorld:\n",
        "    def __init__(self, blocks, goal_configuration):\n",
        "        self.blocks = blocks  # Current state of blocks\n",
        "        self.goal_configuration = goal_configuration  # The goal configuration\n",
        "\n",
        "    def heuristic(self):\n",
        "        \"\"\"\n",
        "        Calculate the heuristic value for the current state of blocks.\n",
        "        +1 for correctly supported blocks, -1 for incorrectly supported blocks.\n",
        "        \"\"\"\n",
        "        heuristic_value = 0\n",
        "\n",
        "        for block, support in self.blocks.items():\n",
        "            if support == self.goal_configuration.get(block, None):\n",
        "                heuristic_value += 1  # Correct support structure\n",
        "            else:\n",
        "                heuristic_value -= 1  # Incorrect support structure\n",
        "\n",
        "        return heuristic_value\n",
        "\n",
        "# Example usage:\n",
        "\n",
        "# Current state of the blocks (block_name: block_support)\n",
        "# Assume 'A' is on 'B', 'B' is on the table, 'C' is on 'A'\n",
        "current_state = {\n",
        "    'A': 'B',\n",
        "    'B': 'table',\n",
        "    'C': 'A'\n",
        "}\n",
        "\n",
        "# Goal configuration (block_name: correct_block_support)\n",
        "goal_configuration = {\n",
        "    'A': 'table',\n",
        "    'B': 'A',\n",
        "    'C': 'B'\n",
        "}\n",
        "\n",
        "# Create a BlocksWorld object\n",
        "blocks_world = BlocksWorld(current_state, goal_configuration)\n",
        "\n",
        "# Calculate the heuristic value for the current state\n",
        "h_value = blocks_world.heuristic()\n",
        "\n",
        "print(f\"Heuristic value of the current state: {h_value}\")\n"
      ]
    }
  ]
}